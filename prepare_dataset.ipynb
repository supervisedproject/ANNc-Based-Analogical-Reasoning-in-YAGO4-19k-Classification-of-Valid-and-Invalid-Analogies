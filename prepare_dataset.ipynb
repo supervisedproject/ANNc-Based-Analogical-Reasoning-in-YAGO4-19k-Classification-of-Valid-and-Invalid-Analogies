{
 "cells": [
  {
   "cell_type": "code",
   "execution_count": 1,
   "id": "bc7233b5-0a71-428f-aaed-a8e91b6b3eec",
   "metadata": {},
   "outputs": [
    {
     "name": "stdout",
     "output_type": "stream",
     "text": [
      "\u001b[33mDEPRECATION: Loading egg at /home/emanuel/miniconda3/lib/python3.11/site-packages/ISR-2.2.0-py3.11.egg is deprecated. pip 24.3 will enforce this behaviour change. A possible replacement is to use pip for package installation.. Discussion can be found at https://github.com/pypa/pip/issues/12330\u001b[0m\u001b[33m\n",
      "\u001b[0mNote: you may need to restart the kernel to use updated packages.\n"
     ]
    }
   ],
   "source": [
    "pip install -q torch transformers pandas numpy tqdm matplotlib"
   ]
  },
  {
   "cell_type": "code",
   "execution_count": 2,
   "id": "58e20c11-6310-4c89-9bb2-1f78f676503c",
   "metadata": {},
   "outputs": [],
   "source": [
    "import torch.nn.functional as F\n",
    "import torch\n",
    "from transformers import AutoTokenizer, AutoModel\n",
    "\n",
    "device = 'cuda:0' if torch.cuda.is_available() else 'cpu'\n",
    "\n",
    "model_path = 'Alibaba-NLP/gte-large-en-v1.5'\n",
    "tokenizer = AutoTokenizer.from_pretrained(model_path, trust_remote_code=True)\n",
    "model = AutoModel.from_pretrained(model_path, trust_remote_code=True)\n",
    "model = model.to(device)"
   ]
  },
  {
   "cell_type": "code",
   "execution_count": 3,
   "id": "597033ca-d01e-430a-ace3-6c3363817f22",
   "metadata": {},
   "outputs": [],
   "source": [
    "import re\n",
    "def clean_value(value):\n",
    "    # Replace underscores with spaces for each variable\n",
    "    value = value.replace('_', ' ')\n",
    "    # Removes the wikipedia article ID from each variable\n",
    "    value = re.sub(r' Q\\d+$', '', value)\n",
    "    return value\n",
    "    \n",
    "def clean_dataframe(df):\n",
    "    # Apply the clean_value function to each element in the DataFrame\n",
    "    cleaned_df = df.map(lambda x: clean_value(x) if isinstance(x, str) else x)\n",
    "    #removes values with empty variables\n",
    "    cleaned_df = cleaned_df.replace('', pd.NA).dropna()\n",
    "    cleaned_df.reset_index(drop=True, inplace=True)\n",
    "    return cleaned_df    "
   ]
  },
  {
   "cell_type": "code",
   "execution_count": 4,
   "id": "f8fa8427-fd29-4a7b-9a52-89e5292d4106",
   "metadata": {},
   "outputs": [],
   "source": [
    "def get_embedding(sentences):\n",
    "    #gets the embeddings, also applies mean pooling, truncation and padding.\n",
    "    encoded_input = tokenizer(sentences, padding=True, truncation=True, return_tensors=\"pt\")\n",
    "    encoded_input.to(device)\n",
    "    with torch.no_grad():\n",
    "        model_output = model(**encoded_input)\n",
    "    token_embeddings = model_output.last_hidden_state\n",
    "    attention_mask = encoded_input.attention_mask\n",
    "    input_mask_expanded = (\n",
    "        attention_mask.unsqueeze(-1).expand(token_embeddings.size()).float()\n",
    "    )\n",
    "    vector_embeddings = torch.sum(token_embeddings * input_mask_expanded, 1) / torch.clamp(\n",
    "        input_mask_expanded.sum(1), min=1e-9\n",
    "    )\n",
    "    return vector_embeddings"
   ]
  },
  {
   "cell_type": "code",
   "execution_count": 5,
   "id": "ce7b7190-e0c4-4791-9677-3cc3214e6697",
   "metadata": {},
   "outputs": [],
   "source": [
    "import pandas as pd\n",
    "def build_df(dataset_name,num_samples):\n",
    "    #returns a dataframe with clean variables with a fix sample size.\n",
    "    dataset_csv = pd.read_csv(dataset_name)\n",
    "    dataset_csv = dataset_csv[:num_samples]\n",
    "    dataset_csv = clean_dataframe(dataset_csv)\n",
    "    return dataset_csv"
   ]
  },
  {
   "cell_type": "code",
   "execution_count": 6,
   "id": "e7ad53e5-6d86-4616-913e-7bd56d9a8b07",
   "metadata": {},
   "outputs": [],
   "source": [
    "#dataset_csv is the spreadsheet after being cleaned and with the selected number of samples\n",
    "dataset_csv = build_df('shuffled_combined_dataset.csv',50000)"
   ]
  },
  {
   "cell_type": "code",
   "execution_count": 7,
   "id": "226e984a-6131-413a-a02d-34aa03781528",
   "metadata": {},
   "outputs": [],
   "source": [
    "import numpy as np\n",
    "from tqdm import tqdm\n",
    "def build_dataset_with_emb(dataset_csv,batch_size = 1000):\n",
    "    #compute embeddings for each of the rows and saves it in a column called word_embeddings in parallel (very fast)\n",
    "    #be careful that this function is memory demmanding and boosting the variables too high can potentially crash your system\n",
    "    Entity1 = dataset_csv['Entity1'].to_list()\n",
    "    Entity2 = dataset_csv['Entity2'].to_list()\n",
    "    Entity3 = dataset_csv['Entity3'].to_list()\n",
    "    Entity4 = dataset_csv['Entity4'].to_list()\n",
    "\n",
    "    x = []\n",
    "    arange = np.arange(0, len(dataset_csv), batch_size, dtype=int)\n",
    "    arange = np.append(arange, len(dataset_csv))\n",
    "    #for idx,upper_limit in enumerate(arange[1:]):\n",
    "    for idx, upper_limit in tqdm(enumerate(arange[1:]), total=len(arange[1:]), desc=\"Batches processed\"):\n",
    "        a = Entity1[arange[idx]:upper_limit]\n",
    "        b = Entity2[arange[idx]:upper_limit]\n",
    "        c = Entity3[arange[idx]:upper_limit]\n",
    "        d = Entity4[arange[idx]:upper_limit]\n",
    "        a = get_embedding(a)\n",
    "        b = get_embedding(b)\n",
    "        c = get_embedding(c)\n",
    "        d = get_embedding(d)\n",
    "        x.append(torch.stack((a,b,c,d)).permute(1,2,0))\n",
    "    x = torch.cat(x, dim=0)\n",
    "    df = pd.DataFrame({\n",
    "        'word_embeddings': x.tolist()\n",
    "    })\n",
    "    #torch.tensor(df.iloc[0]['word_embeddings'])\n",
    "    df = pd.concat([dataset_csv, df], axis=1)\n",
    "    return df"
   ]
  },
  {
   "cell_type": "code",
   "execution_count": 8,
   "id": "2f847e85-e43d-46f1-aef1-ff745d9372a0",
   "metadata": {},
   "outputs": [
    {
     "name": "stderr",
     "output_type": "stream",
     "text": [
      "Batches processed: 100%|████████████████████████| 44/44 [04:56<00:00,  6.74s/it]\n"
     ]
    }
   ],
   "source": [
    "#the dataset after we compute the embeddings and being added into the dataframe as a column\n",
    "dataset_with_emb = build_dataset_with_emb(dataset_csv)"
   ]
  },
  {
   "cell_type": "code",
   "execution_count": 9,
   "id": "d18f19b9-46fc-4474-82e8-2cd4fae32e21",
   "metadata": {},
   "outputs": [],
   "source": [
    "#save the dataset as a csv\n",
    "dataset_with_emb.to_csv('50000_samples.csv', index=False)"
   ]
  },
  {
   "cell_type": "code",
   "execution_count": null,
   "id": "6e62caf7-7cfa-482a-8af9-693b5844f7d8",
   "metadata": {},
   "outputs": [],
   "source": []
  }
 ],
 "metadata": {
  "kernelspec": {
   "display_name": "Python 3 (ipykernel)",
   "language": "python",
   "name": "python3"
  },
  "language_info": {
   "codemirror_mode": {
    "name": "ipython",
    "version": 3
   },
   "file_extension": ".py",
   "mimetype": "text/x-python",
   "name": "python",
   "nbconvert_exporter": "python",
   "pygments_lexer": "ipython3",
   "version": "3.11.5"
  }
 },
 "nbformat": 4,
 "nbformat_minor": 5
}
