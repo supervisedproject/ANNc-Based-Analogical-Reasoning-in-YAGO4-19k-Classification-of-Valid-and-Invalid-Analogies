{
 "cells": [
  {
   "cell_type": "code",
   "execution_count": 1,
   "id": "d01079bf-bfaa-4ff6-8d0b-4d1852352c31",
   "metadata": {},
   "outputs": [],
   "source": [
    "import torch.nn as nn\n",
    "class ANNc(nn.Module):\n",
    "    def __init__(self, emb_size=1024, **kwargs):\n",
    "        #384\n",
    "        '''CNN based analogy classifier model.\n",
    "\n",
    "        It generates a value between 0 and 1 (0 for invalid, 1 for valid) based on four input vectors.\n",
    "        1st layer (convolutional): 128 filters (= kernels) of size h × w = 1 × 2 with strides (1, 2) and relu activation.\n",
    "        2nd layer (convolutional): 64 filters of size (2, 2) with strides (2, 2) and relu activation.\n",
    "        3rd layer (dense, equivalent to linear for PyTorch): one output and sigmoid activation.\n",
    "\n",
    "        Argument:\n",
    "        emb_size -- the size of the input vectors'''\n",
    "        super().__init__()\n",
    "        self.emb_size = emb_size\n",
    "        self.conv1 = nn.Conv2d(1, 128, (1,2), stride=(1,2))\n",
    "        self.conv2 = nn.Conv2d(128, 64, (2,2), stride=(2,2))\n",
    "        self.linear = nn.Linear(64*(emb_size//2), 1)\n",
    "\n",
    "    def flatten(self, t):\n",
    "        '''Flattens the input tensor.'''\n",
    "        t = t.reshape(t.size()[0], -1)\n",
    "        return t\n",
    "\n",
    "    def forward(self,image, p=0):\n",
    "        \"\"\"\n",
    "        \n",
    "        Expected input shape:\n",
    "        - a, b, c, d: [batch_size, emb_size]\n",
    "        \"\"\"\n",
    "        #image = torch.stack([a, b, c, d], dim = 2)\n",
    "\n",
    "        # apply dropout\n",
    "        if p>0:\n",
    "            image=F.dropout(image, p)\n",
    "\n",
    "        x = self.conv1(image.unsqueeze(-3))\n",
    "        x = F.relu(x)\n",
    "        x = self.conv2(x)\n",
    "        x = F.relu(x)\n",
    "        x = self.flatten(x)\n",
    "        x = self.linear(x)\n",
    "        output = torch.sigmoid(x)\n",
    "        return output"
   ]
  },
  {
   "cell_type": "code",
   "execution_count": 2,
   "id": "a7e1155a-101d-4974-bafd-2c4395b99669",
   "metadata": {},
   "outputs": [],
   "source": [
    "import torch.nn.functional as F\n",
    "import torch\n",
    "from transformers import AutoTokenizer, AutoModel\n",
    "\n",
    "device = 'cuda:0' if torch.cuda.is_available() else 'cpu'\n",
    "\n",
    "model_path = 'Alibaba-NLP/gte-large-en-v1.5'\n",
    "tokenizer = AutoTokenizer.from_pretrained(model_path, trust_remote_code=True)\n",
    "model = AutoModel.from_pretrained(model_path, trust_remote_code=True)\n",
    "model = model.to(device)"
   ]
  },
  {
   "cell_type": "code",
   "execution_count": 3,
   "id": "aa9ae7cf-584a-4456-9834-a4b2339ec5e4",
   "metadata": {},
   "outputs": [],
   "source": [
    "import torch\n",
    "def load_model(model,file_name='ANNc.pth.tar'):\n",
    "    #loads model and optimizer \n",
    "    checkpoint = torch.load(file_name)\n",
    "    model.load_state_dict(checkpoint[\"state_dict\"])"
   ]
  },
  {
   "cell_type": "code",
   "execution_count": 4,
   "id": "86902eb9-746a-49d7-9b49-40e600cb794f",
   "metadata": {},
   "outputs": [],
   "source": [
    "cnn = ANNc().to(device)\n",
    "load_model(cnn)"
   ]
  },
  {
   "cell_type": "code",
   "execution_count": 5,
   "id": "517be338-47bc-4cfb-8ad0-d463657d438d",
   "metadata": {},
   "outputs": [],
   "source": [
    "import re\n",
    "def clean_value(value):\n",
    "    # Replace underscores with spaces for each variable\n",
    "    value = value.replace('_', ' ')\n",
    "    # Removes the wikipedia article ID from each variable\n",
    "    value = re.sub(r' Q\\d+$', '', value)\n",
    "    return value"
   ]
  },
  {
   "cell_type": "code",
   "execution_count": 6,
   "id": "c40fae03-f2b7-46eb-841d-73e4b1efd8c5",
   "metadata": {},
   "outputs": [],
   "source": [
    "def get_embedding(sentences):\n",
    "    #gets the embeddings, also applies mean pooling, truncation and padding.\n",
    "    encoded_input = tokenizer(sentences, padding=True, truncation=True, return_tensors=\"pt\")\n",
    "    encoded_input.to(device)\n",
    "    with torch.no_grad():\n",
    "        model_output = model(**encoded_input)\n",
    "    token_embeddings = model_output.last_hidden_state\n",
    "    attention_mask = encoded_input.attention_mask\n",
    "    input_mask_expanded = (\n",
    "        attention_mask.unsqueeze(-1).expand(token_embeddings.size()).float()\n",
    "    )\n",
    "    vector_embeddings = torch.sum(token_embeddings * input_mask_expanded, 1) / torch.clamp(\n",
    "        input_mask_expanded.sum(1), min=1e-9\n",
    "    )\n",
    "    return vector_embeddings"
   ]
  },
  {
   "cell_type": "code",
   "execution_count": 7,
   "id": "e6f28cbe-24f6-4deb-8c96-b27bb8596d17",
   "metadata": {},
   "outputs": [],
   "source": [
    "def inference(x):\n",
    "    \"\"\"\n",
    "    performs a prediction.\n",
    "    x is a dict that has as a key the 4 identities.(Entity1,Entity2,Entity3,Entity4)\n",
    "    \"\"\"\n",
    "    x = get_embedding(list(x.keys()))\n",
    "    x_tensor = x.unsqueeze(0).permute(0,2,1)\n",
    "    y_pred = cnn(x_tensor)\n",
    "    return 'True' if y_pred >= .5 else 'False'"
   ]
  },
  {
   "cell_type": "code",
   "execution_count": 8,
   "id": "ef9ed30c-52cf-400a-9971-46db7c5e94ef",
   "metadata": {},
   "outputs": [
    {
     "data": {
      "text/plain": [
       "'True'"
      ]
     },
     "execution_count": 8,
     "metadata": {},
     "output_type": "execute_result"
    }
   ],
   "source": [
    "x = {\n",
    "    'Entity1':'Benoît Biteau',\n",
    "    'Entity2':'farm operator',\n",
    "    'Entity3':'Clarence Birdseye',\n",
    "    'Entity4':'Biologist'\n",
    "}\n",
    "inference(x)"
   ]
  },
  {
   "cell_type": "code",
   "execution_count": null,
   "id": "82c3511c-46db-4cd7-b7cf-5ed30e0f4d8f",
   "metadata": {},
   "outputs": [],
   "source": []
  }
 ],
 "metadata": {
  "kernelspec": {
   "display_name": "Python 3 (ipykernel)",
   "language": "python",
   "name": "python3"
  },
  "language_info": {
   "codemirror_mode": {
    "name": "ipython",
    "version": 3
   },
   "file_extension": ".py",
   "mimetype": "text/x-python",
   "name": "python",
   "nbconvert_exporter": "python",
   "pygments_lexer": "ipython3",
   "version": "3.11.5"
  }
 },
 "nbformat": 4,
 "nbformat_minor": 5
}
